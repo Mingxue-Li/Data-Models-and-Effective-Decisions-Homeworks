{
 "cells": [
  {
   "cell_type": "markdown",
   "metadata": {},
   "source": [
    "# Homework 01\n",
    "***\n",
    "*Mingxue (Jacqueline) Li    01/12/2019*    \n",
    "\n",
    "## Contents\n",
    "[Exercise 01](#1)\n",
    "\n",
    "[Exercise 03](#3)\n",
    "\n",
    "[Exercise 05](#5)\n",
    "\n",
    "[Exercise 07](#7)\n",
    "\n",
    "[Exercise 09](#9)"
   ]
  },
  {
   "cell_type": "markdown",
   "metadata": {},
   "source": [
    "<a id = '1'></a>\n",
    "\n",
    "### Exercise 01: What is the function of the secondary memory in a computer?"
   ]
  },
  {
   "cell_type": "markdown",
   "metadata": {},
   "source": [
    "a) Execute all of the computation and logic of the program\n",
    "\n",
    "b) Retrieve web pages over the Internet\n",
    "\n",
    "c) Store information for the long term, even beyond a power cycle\n",
    "\n",
    "d) Take input from the user"
   ]
  },
  {
   "cell_type": "markdown",
   "metadata": {},
   "source": [
    "My answer to this question would be **c**"
   ]
  },
  {
   "cell_type": "markdown",
   "metadata": {},
   "source": [
    "<a id = '3'></a>\n",
    "\n",
    "### Exercise 03: What is the difference between a compiler and an interpreter?"
   ]
  },
  {
   "cell_type": "markdown",
   "metadata": {},
   "source": [
    "- First of all, a compiler or an interpreter is a program translator that converts program written in high-level language into machine code(written in 0's and 1's in binary) so that the computer can understand.\n",
    "\n",
    "- An interpreter reads and translates the program line by line, like Python. And when we are running Python interactively, Python processes the line immediately and is ready for us to type another line of Python. Usually, it takes large amount time to finish the overall execution but analyzing the source code takes less time. In terms of debugging, it is easier for interpreters because it stops translating the program when the first error is met.\n",
    "\n",
    "- A compiler scans the entire program and translates it as a whole into machine code. Therefore, it takes large amount of time to analyze the source code but the overall execution time is shorter. And in this case, debugging is more difficult."
   ]
  },
  {
   "cell_type": "markdown",
   "metadata": {},
   "source": [
    "<a id = '5'></a>\n",
    "\n",
    "### Exercise 05: What is wrong with the following code?"
   ]
  },
  {
   "cell_type": "code",
   "execution_count": 2,
   "metadata": {},
   "outputs": [
    {
     "ename": "SyntaxError",
     "evalue": "invalid syntax (<ipython-input-2-aaea93d45e14>, line 1)",
     "output_type": "error",
     "traceback": [
      "\u001b[0;36m  File \u001b[0;32m\"<ipython-input-2-aaea93d45e14>\"\u001b[0;36m, line \u001b[0;32m1\u001b[0m\n\u001b[0;31m    primt 'Hello world!'\u001b[0m\n\u001b[0m                       ^\u001b[0m\n\u001b[0;31mSyntaxError\u001b[0m\u001b[0;31m:\u001b[0m invalid syntax\n"
     ]
    }
   ],
   "source": [
    "primt 'Hello world!'"
   ]
  },
  {
   "cell_type": "markdown",
   "metadata": {},
   "source": [
    "The built-in function *print* is spelled wrong and there should be parentheses after. It should be written as 'print()' instead of 'primt'. See the correction as follows:"
   ]
  },
  {
   "cell_type": "code",
   "execution_count": 3,
   "metadata": {},
   "outputs": [
    {
     "name": "stdout",
     "output_type": "stream",
     "text": [
      "Hello world!\n"
     ]
    }
   ],
   "source": [
    "print('Hello world!')"
   ]
  },
  {
   "cell_type": "markdown",
   "metadata": {},
   "source": [
    "<a id = '7'></a>\n",
    "\n",
    "### Exercise 07: What will the following program print out?"
   ]
  },
  {
   "cell_type": "markdown",
   "metadata": {},
   "source": [
    "a) 43\n",
    "\n",
    "b) 44\n",
    "\n",
    "c) x + 1\n",
    "\n",
    "d) Error because x = x + 1 is not possible mathematically"
   ]
  },
  {
   "cell_type": "markdown",
   "metadata": {},
   "source": [
    "The answer should be **b**, as is shown below."
   ]
  },
  {
   "cell_type": "code",
   "execution_count": 4,
   "metadata": {},
   "outputs": [
    {
     "name": "stdout",
     "output_type": "stream",
     "text": [
      "44\n"
     ]
    }
   ],
   "source": [
    "x = 43\n",
    "x = x + 1\n",
    "print(x)"
   ]
  },
  {
   "cell_type": "markdown",
   "metadata": {},
   "source": [
    "<a id = '9'></a>\n",
    "\n",
    "### Exercise 09: How do you fix a \"Syntax Error\"?"
   ]
  },
  {
   "cell_type": "markdown",
   "metadata": {},
   "source": [
    "To some extent, Syntax means grammar. So whenever there's a syntax error, it means that certain line of the program violates the grammar rules of Python. Since Python would actually point right at the line and character where the wrong is found and sometimes the mistake that needs fixing is earlier in the program than where Python noticed it was confused, I would start from the line pointed out and checking the grammar from there up until I find the mistake."
   ]
  }
 ],
 "metadata": {
  "kernelspec": {
   "display_name": "Python 3",
   "language": "python",
   "name": "python3"
  },
  "language_info": {
   "codemirror_mode": {
    "name": "ipython",
    "version": 3
   },
   "file_extension": ".py",
   "mimetype": "text/x-python",
   "name": "python",
   "nbconvert_exporter": "python",
   "pygments_lexer": "ipython3",
   "version": "3.6.5"
  }
 },
 "nbformat": 4,
 "nbformat_minor": 2
}
