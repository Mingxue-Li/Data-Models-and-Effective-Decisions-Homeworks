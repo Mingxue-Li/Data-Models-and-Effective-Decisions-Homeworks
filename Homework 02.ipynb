{
 "cells": [
  {
   "cell_type": "markdown",
   "metadata": {},
   "source": [
    "# Homework 2 (Due before class on 1/22)\n",
    "\n",
    "**Name: Mingxue (Jacqueline) Li**\n",
    "\n",
    "## Q1. PY4E Chapter 2 Exercise 3\n",
    "\n",
    "Write a program to prompt the user for hours and rate per\n",
    "hour to compute gross pay.\n",
    "\n",
    "```\n",
    "Enter Hours: 35\n",
    "Enter Rate: 2.75\n",
    "Pay: 96.25```\n",
    "\n",
    "Write your code in the code cell below"
   ]
  },
  {
   "cell_type": "code",
   "execution_count": 1,
   "metadata": {},
   "outputs": [
    {
     "name": "stdout",
     "output_type": "stream",
     "text": [
      "Enter Hours: 35\n",
      "Enter Rate: 2.75\n",
      "Pay: 96.25\n"
     ]
    }
   ],
   "source": [
    "hours = eval(input('Enter Hours: '))\n",
    "rate = eval(input('Enter Rate: '))\n",
    "pay = hours * rate\n",
    "print('Pay: {:.2f}'.format(pay))"
   ]
  },
  {
   "cell_type": "markdown",
   "metadata": {},
   "source": [
    "## Q2. PY4E Chapter 2 Exercise 4\n",
    "\n",
    "Assume that we execute the following assignment statements:\n",
    "```\n",
    "width = 17\n",
    "height = 12.0\n",
    "```\n",
    "\n",
    "For each of the following expressions, write the value of the expression and the\n",
    "type (of the value of the expression).\n",
    "1. width//2\n",
    "2. width/2.0\n",
    "3. height/3\n",
    "4. 1 + 2 * 5\n",
    "\n",
    "Type your answer in this markdown cell, under this line: (You can create a new code cell to check your answers.)\n",
    "1. The value is 8 and the type is integer.\n",
    "2. The value is 8.5 and the type is float.\n",
    "3. The value is 4.0 and the type is float.\n",
    "4. The value is 11 and the type is integer.\n",
    "\n",
    "\n",
    "## Q3. PY4E Chapter 2 Exercise 5\n",
    "\n",
    "Write a program which prompts the user for a Celsius tem-\n",
    "perature, convert the temperature to Fahrenheit, and print out the\n",
    "converted temperature.\n",
    "\n",
    "Write your code in the code cell below.\n"
   ]
  },
  {
   "cell_type": "code",
   "execution_count": 2,
   "metadata": {},
   "outputs": [
    {
     "name": "stdout",
     "output_type": "stream",
     "text": [
      "Enter a Celsius temperaturer: 35\n",
      "The Fahrenheit temperature is 95.0\n"
     ]
    }
   ],
   "source": [
    "ctemp = eval(input('Enter a Celsius temperaturer: '))\n",
    "ftemp = 32 + 1.8 * ctemp\n",
    "print('The Fahrenheit temperature is {}'.format(ftemp))"
   ]
  },
  {
   "cell_type": "markdown",
   "metadata": {},
   "source": [
    "## Q4. PY4E Chapter 3 Exercise 1\n",
    "\n",
    "Rewrite your pay computation (from Q1 above) to give the employee 1.5 times the hourly rate for hours worked above 40 hours.\n",
    "\n",
    "```\n",
    "Enter Hours: 45\n",
    "Enter Rate: 10\n",
    "Pay: 475.0\n",
    "```\n",
    "\n",
    "Write your code in the code cell below."
   ]
  },
  {
   "cell_type": "code",
   "execution_count": 3,
   "metadata": {},
   "outputs": [
    {
     "name": "stdout",
     "output_type": "stream",
     "text": [
      "Enter Hours: 45\n",
      "Enter Rate: 10\n",
      "Pay: 475.0\n"
     ]
    }
   ],
   "source": [
    "hours = eval(input('Enter Hours: '))\n",
    "rate = eval(input('Enter Rate: '))\n",
    "if hours <= 40:\n",
    "    pay = hours * rate\n",
    "else:\n",
    "    pay = 40 * rate + (hours - 40)* 1.5 * rate\n",
    "print('Pay: {:.1f}'.format(pay))"
   ]
  },
  {
   "cell_type": "markdown",
   "metadata": {},
   "source": [
    "## Q5. PY4E Chapter 3 Exercise 2\n",
    "Rewrite your pay program (in Q4) using try and except so that your\n",
    "program handles non-numeric input gracefully by printing a message\n",
    "and exiting the program. The following shows two executions of the\n",
    "program:\n",
    "\n",
    "```\n",
    "Enter Hours: 20\n",
    "Enter Rate: nine\n",
    "Error, please enter numeric input\n",
    "\n",
    "Enter Hours: forty\n",
    "Error, please enter numeric input\n",
    "```\n",
    "\n",
    "Write your code in the code cell below."
   ]
  },
  {
   "cell_type": "code",
   "execution_count": 5,
   "metadata": {
    "scrolled": true
   },
   "outputs": [
    {
     "name": "stdout",
     "output_type": "stream",
     "text": [
      "Enter Hours: forty\n",
      "Error, please enter numeric input\n"
     ]
    }
   ],
   "source": [
    "hours = input('Enter Hours: ')\n",
    "try:\n",
    "    hours = float(hours)\n",
    "    rate = eval(input('Enter Rate: '))\n",
    "    if hours <= 40:\n",
    "        pay = hours * rate\n",
    "        print('Pay: {:.1f}'.format(pay))\n",
    "    else:\n",
    "        pay = 40 * rate + (hours - 40)* 1.5 * rate\n",
    "        print('Pay: {:.1f}'.format(pay))\n",
    "except:\n",
    "    print('Error, please enter numeric input')"
   ]
  },
  {
   "cell_type": "markdown",
   "metadata": {},
   "source": [
    "## Q6. PY4E Chapter 3 Exercise 3\n",
    "\n",
    "Write a program to prompt for a score between 0.0 and\n",
    "1.0. If the score is out of range, print an error message. If the score is\n",
    "between 0.0 and 1.0, print a grade using the following table:\n",
    "\n",
    "|Score | Grade |\n",
    "| -- | -- |\n",
    "|>= 0.9 | A  |\n",
    "|>= 0.8 | B |\n",
    "|>= 0.7 | C |\n",
    "| >= 0.6 | D |\n",
    "| < 0.6 | F |\n",
    "\n",
    "```\n",
    "Enter score: 0.95\n",
    "A\n",
    "Enter score: perfect\n",
    "Bad score\n",
    "Enter score: 10.0\n",
    "Bad score\n",
    "Enter score: 0.75\n",
    "C\n",
    "Enter score: 0.5\n",
    "F\n",
    "```\n",
    "\n",
    "Run the program repeatedly as shown above to test the various different values for\n",
    "input.\n",
    "\n",
    "Write your code in the code cell below."
   ]
  },
  {
   "cell_type": "code",
   "execution_count": 6,
   "metadata": {
    "scrolled": true
   },
   "outputs": [
    {
     "name": "stdout",
     "output_type": "stream",
     "text": [
      "Enter score: 0.95\n",
      "A\n",
      "Enter score: perfect\n",
      "Bad score\n",
      "Enter score: 10.0\n",
      "Bad score\n",
      "Enter score: 0.75\n",
      "C\n",
      "Enter score: 0.5\n",
      "F\n"
     ]
    }
   ],
   "source": [
    "i = 1\n",
    "while i < 6:\n",
    "    score = input('Enter score: ')\n",
    "    try:\n",
    "        score = float(score)\n",
    "        if 0 < score < 1:\n",
    "            if score >= 0.9:\n",
    "                print('A')\n",
    "            elif score >= 0.8:\n",
    "                print('B')\n",
    "            elif score >= 0.7:\n",
    "                print('C')\n",
    "            elif score >= 0.6:\n",
    "                print('D')\n",
    "            else:\n",
    "                print('F')\n",
    "        else:\n",
    "            print('Bad score')\n",
    "    except:\n",
    "        print('Bad score')\n",
    "    i += 1"
   ]
  },
  {
   "cell_type": "markdown",
   "metadata": {},
   "source": [
    "## Q7. PY4E Chapter 4 Exercise 6\n",
    "Rewrite your pay computation in Q5 by creating a function called `computepay` which takes two parameters\n",
    "(`hours` and `rate`).\n",
    "\n",
    "Write your code in the code cell below."
   ]
  },
  {
   "cell_type": "code",
   "execution_count": 7,
   "metadata": {},
   "outputs": [
    {
     "name": "stdout",
     "output_type": "stream",
     "text": [
      "Error, please enter numeric input\n",
      "Error, please enter numeric input\n",
      "Error, please enter numeric input\n",
      "Pay: 950.0\n",
      "Pay: 100.0\n"
     ]
    }
   ],
   "source": [
    "def computepay(hours, rate):\n",
    "    try:\n",
    "        float(hours)\n",
    "        float(rate)\n",
    "        if hours <= 40:\n",
    "            pay = hours * rate\n",
    "            print('Pay: {:.1f}'.format(pay))\n",
    "        else:\n",
    "            pay = 40 * rate + (hours - 40)* 1.5 * rate\n",
    "            print('Pay: {:.1f}'.format(pay))\n",
    "    except:\n",
    "        print('Error, please enter numeric input')\n",
    "        \n",
    "computepay(20,'nine')\n",
    "computepay('fifty', 20)\n",
    "computepay('forty','nine')\n",
    "computepay(45,20)\n",
    "computepay(20,5)"
   ]
  },
  {
   "cell_type": "markdown",
   "metadata": {},
   "source": [
    "## Q8. PY4E Chapter 4 Exercise 7\n",
    "\n",
    "Rewrite the grade program from Q6 using a function called `computegrade` that takes a `score` as its parameter and\n",
    "returns a `grade` as a string.\n",
    "\n",
    "Write your code in the code cell below."
   ]
  },
  {
   "cell_type": "code",
   "execution_count": 8,
   "metadata": {},
   "outputs": [
    {
     "name": "stdout",
     "output_type": "stream",
     "text": [
      "A\n",
      "Bad score\n",
      "Bad score\n",
      "C\n",
      "F\n"
     ]
    }
   ],
   "source": [
    "def computegrade(score):\n",
    "    try:\n",
    "        score = float(score)\n",
    "        if 0 < score < 1:\n",
    "            if score >= 0.9:\n",
    "                print('A')\n",
    "            elif score >= 0.8:\n",
    "                print('B')\n",
    "            elif score >= 0.7:\n",
    "                print('C')\n",
    "            elif score >= 0.6:\n",
    "                print('D')\n",
    "            else:\n",
    "                print('F')\n",
    "        else:\n",
    "            print('Bad score')\n",
    "    except:\n",
    "        print('Bad score')\n",
    "        \n",
    "computegrade(0.95)\n",
    "computegrade('perfect')\n",
    "computegrade(10.0)\n",
    "computegrade(0.75)\n",
    "computegrade(0.5)"
   ]
  },
  {
   "cell_type": "code",
   "execution_count": null,
   "metadata": {},
   "outputs": [],
   "source": []
  }
 ],
 "metadata": {
  "kernelspec": {
   "display_name": "Python 3",
   "language": "python",
   "name": "python3"
  },
  "language_info": {
   "codemirror_mode": {
    "name": "ipython",
    "version": 3
   },
   "file_extension": ".py",
   "mimetype": "text/x-python",
   "name": "python",
   "nbconvert_exporter": "python",
   "pygments_lexer": "ipython3",
   "version": "3.6.5"
  }
 },
 "nbformat": 4,
 "nbformat_minor": 2
}
