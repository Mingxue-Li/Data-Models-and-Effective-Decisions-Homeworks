{
 "cells": [
  {
   "cell_type": "markdown",
   "metadata": {},
   "source": [
    "# Homework 4 (Due before class on 2/5)\n",
    "\n",
    "## Name: Mingxue (Jacqueline) Li\n",
    " \n",
    "The problems in this homework do not require complex commands, but require you to exercise algorithmic thinking. It is recommended that you follow the four step method (Describe, Decompose, Translate, and Combine) when solving the problems, and to build up the solution incrementally instead of writing a function to start off. For examples of how to do this, refer to the Handout Solutions (posted on Blackboard) for session 6. \n",
    "\n",
    "## Q1. Estimating Time of Selling Out\n",
    "\n",
    "Suppose that there are limited number of tickets to an event and your goal is to estimate how many weeks before the tickets will be sold out. \n",
    "\n",
    "Write a function `sellOutTime` with two input arguments:\n",
    "\n",
    "- `demand`: a list of positive integers, representing the forecasted demand in each week.\n",
    "- `inventory`: an integer denoting the initial supply of tickets.\n",
    "\n",
    "The function should return the week in which tickets will sell out. For example, if `demand=[50,80,89]` (representing a demand of 50 in week 1, 80 in week 2, and 90 in week 3), then \n",
    "\n",
    "- if initial inventory is 10, the tickets will sell out in week 1. (Function returns 1.)\n",
    "- if initial inventory is 50, the function should still return 1.\n",
    "- if initial inventory is 60, function should return 2. (Because supply lasts into week 2.)\n",
    "- if initial inventory is 300, function should return 4. (Supply lasts even after the 3 weeks are over.)"
   ]
  },
  {
   "cell_type": "code",
   "execution_count": 1,
   "metadata": {},
   "outputs": [],
   "source": [
    "def sellOutTime(demand, inventory):\n",
    "    n = 1\n",
    "    for i in range (len(demand)):\n",
    "        diff = inventory - demand[i]\n",
    "        if diff <= 0:\n",
    "            return n\n",
    "            break\n",
    "        else:\n",
    "            if i == len(demand)-1:\n",
    "                return len(demand)+1\n",
    "            else:\n",
    "                inventory = diff\n",
    "        n += 1"
   ]
  },
  {
   "cell_type": "code",
   "execution_count": 2,
   "metadata": {},
   "outputs": [
    {
     "name": "stdout",
     "output_type": "stream",
     "text": [
      "With initial inventory 10 supply will last until week 1\n",
      "With initial inventory 50 supply will last until week 1\n",
      "With initial inventory 60 supply will last until week 2\n",
      "With initial inventory 130 supply will last until week 2\n",
      "With initial inventory 220 supply will last until week 4\n",
      "With initial inventory 500 supply will last until week 6\n",
      "With initial inventory 1000 supply will last until week 9\n"
     ]
    }
   ],
   "source": [
    "demand=[50,80,89,100,120,140,100,80]\n",
    "for inventory in [10,50,60,130,220,500,1000]:\n",
    "    print('With initial inventory',inventory,'supply will last until week',sellOutTime(demand,inventory))"
   ]
  },
  {
   "cell_type": "markdown",
   "metadata": {},
   "source": [
    "## Q2. Estimating Revenue under Dynamic Pricing\n",
    "\n",
    "In applications such as airline ticketing, capacity is limited and one pricing strategy is to increase the price when only a few number of tickets are left. In this exercise, the price is initially `price1` and increases to `price2` when a threshold number of items are left. You goal is to estimate the total revenue given a forecast of willingness to pay by customers. \n",
    "\n",
    "Write a function called `revenue` with five input arguments:\n",
    "\n",
    "- `values`: a list of maximum willingness to pay, similar to Case 7a in session 5.\n",
    "- `price1`: the initial price of the product.\n",
    "- `price2`: the updated price when only a few items are left.\n",
    "- `capacity`: the total number of products that can be sold.\n",
    "- `threshold`: when only this many products are left, the price increases from `price1` to `price2`.\n",
    "\n",
    "The function should return the total revenue from the given pricing policy. You should assume that customers in the list `values` come sequentially. For example, given the input `values=[10,20,25,30,40]`, `price1=20`, `price2=30`, `capacity=2`, `threshold=1`, the function should return 50. This is because the first customer does not buy, the second customer buys, at which point price increases to 30 since only one item is left. The third customer does not buy. The final customer buys at the increased price of 30. The last customer does not buy since no more items are left."
   ]
  },
  {
   "cell_type": "code",
   "execution_count": 3,
   "metadata": {},
   "outputs": [],
   "source": [
    "def revenue(values, price1, price2, capacity, threshold):\n",
    "    revenue = []\n",
    "    for i in range(len(values)):\n",
    "        if values[i] < price1:\n",
    "            revenue.append(0)\n",
    "        else:\n",
    "            revenue.append(price1)\n",
    "            capacity -= 1\n",
    "            if capacity == 0:\n",
    "                break\n",
    "            elif capacity == threshold:\n",
    "                price1 = price2\n",
    "            else:\n",
    "                continue\n",
    "    print(sum(revenue))"
   ]
  },
  {
   "cell_type": "code",
   "execution_count": 4,
   "metadata": {},
   "outputs": [
    {
     "name": "stdout",
     "output_type": "stream",
     "text": [
      "50\n"
     ]
    }
   ],
   "source": [
    "values=[10,20,25,30,40]\n",
    "price1=20\n",
    "price2=30\n",
    "capacity=2\n",
    "threshold=1\n",
    "revenue(values,price1,price2,capacity,threshold)"
   ]
  },
  {
   "cell_type": "code",
   "execution_count": 5,
   "metadata": {},
   "outputs": [
    {
     "name": "stdout",
     "output_type": "stream",
     "text": [
      "110\n"
     ]
    }
   ],
   "source": [
    "values=[10,20,25,30,100,40,200,50,90]\n",
    "price1=20\n",
    "price2=30\n",
    "capacity=5\n",
    "threshold=1\n",
    "revenue(values,price1,price2,capacity,threshold)"
   ]
  },
  {
   "cell_type": "markdown",
   "metadata": {},
   "source": [
    "## Q3. Demand Estimation with N substitutable products\n",
    "\n",
    "This exercise generalizes Case 9 to $n$ products, where $n$ is any positive integer.\n",
    "\n",
    "Write a function called `demand` with two input arguments:\n",
    "\n",
    "- `prices`: a list of $n$ prices, one for each product. \n",
    "- `values`: a list in which each element represents a customer and is a list of length $n$, which corresponds to the customer's valuation for each of the $n$ products.\n",
    "\n",
    "The function should return a list of length $n$ representing the number of each product sold. You should assume that each customer:\n",
    "\n",
    "- Does not purchase anything if his/her valuation for each product is strictly less than its price.\n",
    "- Otherwise, purchase the product in which the difference between his/her valuation and the price is the largest. When there is a tie, the customer will purchase the product with the smaller index. \n",
    "\n",
    "For example, if `prices=[10,8,12]`, then\n",
    "\n",
    "- A customer with valuations `[9,7,11]` purchases nothing.\n",
    "- A customer with valuations `[10,8,12]` purchases product 0.\n",
    "- A customer with valuations `[9,8,12]` purchases product 1.\n",
    "- A customer with valuations `[9,8,13]` purchases product 2."
   ]
  },
  {
   "cell_type": "code",
   "execution_count": 6,
   "metadata": {
    "scrolled": true
   },
   "outputs": [],
   "source": [
    "def dd(prices, values):\n",
    "    n = len(prices)\n",
    "    diff = [0]*n\n",
    "    for i in range(n):\n",
    "        diff[i] = values[i]-prices[i]\n",
    "    m = max(diff)\n",
    "    if m < 0:\n",
    "        return [0]*n\n",
    "    else:\n",
    "        if min(diff) == m:\n",
    "            return [1]+[0]*(n-1)\n",
    "        else:\n",
    "            l = [0]*n\n",
    "            l[diff.index(m)] = 1\n",
    "            return l\n",
    "\n",
    "def demand(prices, values):\n",
    "    results = []\n",
    "    for value in values:\n",
    "         results.append(dd(prices, value))\n",
    "    return [sum(i) for i in zip(*results)]"
   ]
  },
  {
   "cell_type": "code",
   "execution_count": 7,
   "metadata": {},
   "outputs": [
    {
     "name": "stdout",
     "output_type": "stream",
     "text": [
      "Demand for product 0 : 1\n",
      "Demand for product 1 : 1\n",
      "Demand for product 2 : 1\n"
     ]
    }
   ],
   "source": [
    "prices=[10,8,12]\n",
    "values=[[9,7,11],[10,8,12],[9,8,12],[9,8,13]]\n",
    "ans=demand(prices,values)\n",
    "for i in range(len(prices)):\n",
    "    print('Demand for product',i,':',ans[i])"
   ]
  },
  {
   "cell_type": "code",
   "execution_count": 8,
   "metadata": {},
   "outputs": [
    {
     "name": "stdout",
     "output_type": "stream",
     "text": [
      "Demand for product 0 : 3\n",
      "Demand for product 1 : 1\n",
      "Demand for product 2 : 1\n"
     ]
    }
   ],
   "source": [
    "prices=[20,15,30]\n",
    "values=[[30,30,20],[40,10,15],[18,13,29],[40,30,50],[10,30,50],[10,10,10],[20,15,30]]\n",
    "ans=demand(prices,values)\n",
    "for i in range(len(prices)):\n",
    "    print('Demand for product',i,':',ans[i])"
   ]
  },
  {
   "cell_type": "markdown",
   "metadata": {},
   "source": [
    "## Q4. Simulating Availabilities of Hospital Beds\n",
    "\n",
    "One challenge in health care operations is to forecast the number of hospital beds that are available at a given time, since patients admitted in the past may stay for several days and the number of beds are limited. If no more beds are available, then incoming patients may need to be turned away.\n",
    "\n",
    "Write a function called `admissionSimulation` with three input arguments:\n",
    "\n",
    "- `demand`: a list of positive integers representing the number of incoming patients desiring a hospital bed in each day. (The first number corresponds to day 0, the second number to day 1, and so on.)\n",
    "- `beds`: a positive integer representing the total number of hospital beds available.\n",
    "- `stay`: a positive integer representing the number of days each admitted patient will stay. If `stay=1`, then every admitted patient leaves before any incoming patients arrive the next day. If `stay=2`, then each patient admitted on day $t$ will occupy a bed also for day $t+1$, and only leave before incoming patients arrive on day $t+2$.\n",
    "\n",
    "The function should return a list `admissionRecord`, corresponding to the number of incoming patients admitted on each day. \n",
    "\n"
   ]
  },
  {
   "cell_type": "code",
   "execution_count": 9,
   "metadata": {},
   "outputs": [],
   "source": [
    "import numpy as np\n",
    "def admissionSimulation(demand, beds, stay):\n",
    "    remainingbeds = [] \n",
    "    admissionRecord = []\n",
    "    for i in range(len(demand)+stay): \n",
    "        remainingbeds.append(beds)\n",
    "    remainingbeds=np.array(remainingbeds)\n",
    "    for i in range(len(demand)):\n",
    "        admissionRecord.append(min(remainingbeds[i],demand[i])) \n",
    "        remainingbeds[i:i+stay]=remainingbeds[i:i+stay]-min(remainingbeds[i],demand[i])\n",
    "    return admissionRecord "
   ]
  },
  {
   "cell_type": "code",
   "execution_count": 10,
   "metadata": {},
   "outputs": [
    {
     "name": "stdout",
     "output_type": "stream",
     "text": [
      "On day 0 demand is 1 and 1 patients were admitted.\n",
      "On day 1 demand is 2 and 1 patients were admitted.\n",
      "On day 2 demand is 1 and 1 patients were admitted.\n",
      "On day 3 demand is 0 and 0 patients were admitted.\n",
      "On day 4 demand is 2 and 2 patients were admitted.\n",
      "On day 5 demand is 3 and 0 patients were admitted.\n"
     ]
    }
   ],
   "source": [
    "demand=[1,2,1,0,2,3]\n",
    "beds=2\n",
    "stay=2\n",
    "admissionRecord=admissionSimulation(demand,beds,stay)\n",
    "for i in range(len(demand)):\n",
    "    print('On day',i,'demand is',demand[i],'and',admissionRecord[i],'patients were admitted.')"
   ]
  },
  {
   "cell_type": "code",
   "execution_count": 11,
   "metadata": {},
   "outputs": [
    {
     "name": "stdout",
     "output_type": "stream",
     "text": [
      "On day 0 demand is 5 and 5 patients were admitted.\n",
      "On day 1 demand is 8 and 2 patients were admitted.\n",
      "On day 2 demand is 6 and 0 patients were admitted.\n",
      "On day 3 demand is 8 and 5 patients were admitted.\n",
      "On day 4 demand is 4 and 2 patients were admitted.\n",
      "On day 5 demand is 4 and 0 patients were admitted.\n",
      "On day 6 demand is 8 and 5 patients were admitted.\n",
      "On day 7 demand is 6 and 2 patients were admitted.\n",
      "On day 8 demand is 1 and 0 patients were admitted.\n"
     ]
    }
   ],
   "source": [
    "demand=[5,8,6,8,4,4,8,6,1]\n",
    "beds=7\n",
    "stay=3\n",
    "admissionRecord=admissionSimulation(demand,beds,stay)\n",
    "for i in range(len(demand)):\n",
    "    print('On day',i,'demand is',demand[i],'and',admissionRecord[i],'patients were admitted.')"
   ]
  },
  {
   "cell_type": "code",
   "execution_count": null,
   "metadata": {},
   "outputs": [],
   "source": []
  }
 ],
 "metadata": {
  "kernelspec": {
   "display_name": "Python 3",
   "language": "python",
   "name": "python3"
  },
  "language_info": {
   "codemirror_mode": {
    "name": "ipython",
    "version": 3
   },
   "file_extension": ".py",
   "mimetype": "text/x-python",
   "name": "python",
   "nbconvert_exporter": "python",
   "pygments_lexer": "ipython3",
   "version": "3.6.5"
  }
 },
 "nbformat": 4,
 "nbformat_minor": 2
}
