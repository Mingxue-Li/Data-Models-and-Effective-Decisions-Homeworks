{
 "cells": [
  {
   "cell_type": "markdown",
   "metadata": {},
   "source": [
    "# Homework 6 (Due before class on 2/21)\n",
    "\n",
    "**Name:** Mingxue (Jacqueline) Li\n",
    "\n",
    "For questions Q1-Q6, you can use code cells to make computations, but you should write your answer and derivations as text in a markdown cell, below **\"Answer\"**. \n",
    "\n",
    "Questions Q7-Q8 are coding questions to help you practice writing simulations."
   ]
  },
  {
   "cell_type": "markdown",
   "metadata": {},
   "source": [
    "## Q1. DMD Exercise 2.22 \n",
    "A large retail company has stores at two locations in a city: a large department store and a discount outlet store. Weekly sales of umbrellas at the department store have a mean of 147.8 and a standard deviation of 50.1. Weekly sales of umbrellas at the discount outlet store have a mean of 63.2 and a standard deviation of 37.0. Sales of umbrellas in the two stores have a correlation of 0.7.\n",
    "\n",
    "Umbrellas cost 17 dollars each at the department store and 9 dollars each at the outlet store. Compute the mean, variance, and standard deviation of the total (combined) umbrella sales revenue from the two stores. (To solve this question, you would have to use the formula in DMD Section 2.11.)\n",
    "\n",
    "**Answer:**\n",
    "\n",
    "$MEAN = E(17Dep+9Out) = 17E(Dep) + 9(Out) = 3081.4$\n",
    "\n",
    "$VAR = VAR(17Dep)+VAR(9Out)+2corr(Dep,Out)\\sigma(Dep)\\sigma(Out)=1233344.4$\n",
    "\n",
    "$STD = \\sigma(17Dep+9Out)=\\sqrt{VAR(17Dep+9Out)}=1110.6$"
   ]
  },
  {
   "cell_type": "markdown",
   "metadata": {},
   "source": [
    "## Q2. DMD Exercise 2.25\n",
    "\n",
    "Suppose 5 percent of the microchips produced by a leading microchip manufacturer are defective. Historically, given that a microchip is defective, the inspector (wrongly) accepts the chip 10 percent of the time, thinking it has no defect. If a microchip is not defective, he always correctly accepts it. Suppose that the inspector inspects 10 microchips.\n",
    "\n",
    "(a) What is the probability that all 10 microchips in the sample are not defective?\n",
    "\n",
    "(b) What is the probability that the inspector accepts a particular microchip?\n",
    "\n",
    "(c) What is the probability that the inspector accepts 9 (out of 10) microchips?\n",
    "\n",
    "(d) Given that the inspector accepts a microchip, what is the probability that it has no defect?\n",
    "\n",
    "(e) Given that inspector accepts all 10 microchips, what is the probability that they all have no defects?\n",
    "\n",
    "**Answer:**\n",
    "\n",
    "(a) The probability that all 10 microchips in the sample are not defective is:\n",
    "$(1-0.05)^{10}=0.95^{10}=0.599$\n",
    "\n",
    "(b) The probability that the inspector accepts a particular microchip is:\n",
    "$0.05*0.1+0.95 = 0.955$\n",
    "\n",
    "(c) The probability that the inspector accepts 9 (out of 10) microchips is:\n",
    "$C^9_{10}*(0.955)^9*(1-0.995)=0.297$\n",
    "\n",
    "(d) Given that the inspector accepts a microchip, the probability that it has no defect is:\n",
    "$0.95/(0.95+0.05*0.1) = 0.995$\n",
    "\n",
    "(e) Given that inspector accepts all 10 microchips, the probability that they all have no defects is:\n",
    "$0.995^{10}=0.951$"
   ]
  },
  {
   "cell_type": "code",
   "execution_count": 16,
   "metadata": {},
   "outputs": [
    {
     "data": {
      "text/plain": [
       "0.2973328255894693"
      ]
     },
     "execution_count": 16,
     "metadata": {},
     "output_type": "execute_result"
    }
   ],
   "source": [
    "from scipy.stats import binom\n",
    "binom(n=10,p=0.955).pmf(9)"
   ]
  },
  {
   "cell_type": "markdown",
   "metadata": {},
   "source": [
    "## Q3. DMD Exercise 2.27\n",
    "\n",
    "In this exercise we examine the effects of overbooking in the airline industry. Ontario Gateway Airlines' first class cabins have 10 seats in each plane. Ontario's overbooking policy is to sell up to 11 first class tickets, since cancellations and no-shows are always possible (and indeed are quite likely). For a given flight on Ontario Gateway, there were 11 first class tickets sold. Suppose that each of the 11 persons who purchased tickets has a 20 percent chance of not showing up for the flight, and that the events that different persons show up for the flight are independent.\n",
    "\n",
    "(a) What is the probability that at most 5 of the 11 persons who purchased first class tickets show up for the flight?\n",
    "\n",
    "(b) What is the probability that exactly 10 of the persons who purchased first class tickets show up for the flight?\n",
    "\n",
    "(c) Suppose that there are 10 seats in the first class available and that the cost of each first class ticket is 1,200 dollars. (This 1,200 contributes entirely to profit since the variable cost associated with a passenger on a flight is close to zero.) Suppose further that any overbooked seat costs the airline 3,000 dollars, which is the cost of the free ticket issued the passenger plus some potential cost in damanged customer relations. (First class passengers do not expect to be bumped!) Thus, for example, if 10 of the first class passengers show up for the flight, the airline's profit is 12,000. If 11 first class passengers show up, the profit is 9,000. What is the expected profit from first class passengers for this flight?\n",
    "\n",
    "(d) Suppose that only 10 first class tickets were sold. What would be the expected profit from first class passengers for this flgith?\n",
    "\n",
    "(e) People often travel in groups of two or more. Does this affect the independence assumption about passenger behavior? Why or why not?\n",
    "\n",
    "**Answer:**\n",
    "\n",
    "Total number of passengers showing up follows a binomial distribution with n = 11 and p = 0.8.\n",
    "\n",
    "(a) The probability that at most 5 of the 11 persons who purchased first class tickets show up for the flight is:\n",
    "\n",
    "$F(X\\le5)=0.012$\n",
    "\n",
    "(b) The probability that exactly 10 of the persons who purchased first class tickets show up for the flight is:\n",
    "\n",
    "$P(X=10)=0.236$\n",
    "\n",
    "(c) The expected profit from first class passengers for this flight is:\n",
    "\n",
    "$E(X) = \\sum\\limits_{i=1}^n x_ip_i =10199.22$\n",
    "\n",
    "\n",
    "(d) If only 10 first class tickets were sold, the expected profit from first class passengers for this flight would be:\n",
    "\n",
    "$E(X) = 1200*E(X)=1200*0.8*10 =9600$\n",
    "\n",
    "(e) This affects the independence assumption about passenger behavior. Since passenger behavior is not independent within that group. Pssengers in the same group tend to show up/not show up together."
   ]
  },
  {
   "cell_type": "code",
   "execution_count": 17,
   "metadata": {},
   "outputs": [
    {
     "data": {
      "text/plain": [
       "9600.000000000005"
      ]
     },
     "execution_count": 17,
     "metadata": {},
     "output_type": "execute_result"
    }
   ],
   "source": [
    "import pandas as pd\n",
    "hist = binom(n=11,p=0.8)\n",
    "hist.cdf(5)\n",
    "hist.pmf(10)\n",
    "\n",
    "probs = pd.Series(hist.pmf(range(1,12)))\n",
    "profits = 1200*pd.Series(range(1,11))\n",
    "profits[10]=9000\n",
    "sum(probs*profits)\n",
    "\n",
    "hist = binom(n=10,p=0.8)\n",
    "probs = pd.Series(hist.pmf(range(1,11)))\n",
    "profits = 1200*pd.Series(range(1,11))\n",
    "sum(probs*profits)"
   ]
  },
  {
   "cell_type": "markdown",
   "metadata": {},
   "source": [
    "## Q4. DMD Exercise 3.6\n",
    "Winter lasts from December 21 through March 21. The average winter temperature in Boston is Normally distributed with mean $\\mu=32.5$ Fahrenheit and standard deviation is $\\sigma=1.59$ Fahrenheit. In New York City, the average winter temperature is Normally distributed with mean $\\mu=35.4$ Fahrenheit and standard deviation $\\sigma=2.05$ Fahrenheit.\n",
    "\n",
    "(a) What is the probability that the average winter temperature in Boston this coming winter will be above freezing (32 degrees Fahrenheit)?\n",
    "\n",
    "(b) Assume that average winter temperatures in Boston and New York are independent. What is the probability that the average winter temperature in Boston in the coming winter will be higher than in New York?\n",
    "\n",
    "(c) Do you think the independence assumption above is reasonable?\n",
    "\n",
    "**Answer:**\n",
    "\n",
    "(a) The desired probability is\n",
    "$P(X\\gt 32)=1-P(X\\le32)=0.623$\n",
    "\n",
    "(b) $(X-Y)$ follows a normal distribution of $N(32.5-35.4,\\sqrt{1.59^2+2.05^2})$, that is, $N(-2.9,2.59^2)$\n",
    "\n",
    "The probability that the average winter temperature in Boston in the coming winter will be higher than in New York is:\n",
    "\n",
    "$P(X\\gt Y)=P(X-Y \\gt 0)=1-F((X-Y)\\le0)=0.13$\n",
    "\n",
    "(c) The independence assumption is not that reasonable because the two cities are close to each other."
   ]
  },
  {
   "cell_type": "code",
   "execution_count": 18,
   "metadata": {},
   "outputs": [
    {
     "data": {
      "text/plain": [
       "0.13142270529071243"
      ]
     },
     "execution_count": 18,
     "metadata": {},
     "output_type": "execute_result"
    }
   ],
   "source": [
    "from scipy.stats import norm\n",
    "1-norm(-2.9,2.59).cdf(0)"
   ]
  },
  {
   "cell_type": "markdown",
   "metadata": {},
   "source": [
    "## Q5. DMD Exercise 3.12\n",
    "A portfolio manager believes that tomorrow's foreign exchange rate of German marks per U.S. dollar will be Normally distributed with mean 2.03 and standard deviation 0.08. Using the manager's numbers, answer the following questions:\n",
    "\n",
    "(a) What is the probability that tomorrow's rate will be above 2.08?\n",
    "\n",
    "(b) What is the probability that tomorrow's rate will be below 1.85?\n",
    "\n",
    "(c) What is the probability that tomorrow's rate will be between 2.00 and 2.20?\n",
    "\n",
    "**Answer:**\n",
    "\n",
    "(a) The probability that tomorrow's rate will be above 2.08 is\n",
    "\n",
    "$P(X>2.08)=1-P(X\\le 2.08)=1-0.73=0.270$\n",
    "\n",
    "(b) The probability that tomorrow's rate will be below 1.85 is\n",
    "\n",
    "$P(X\\le 1.85)=0.012$\n",
    "\n",
    "(c) The probability that tomorrow's rate will be between 2.00 and 2.20 is\n",
    "\n",
    "$P(2.00 \\le X \\le 2.20)=P(X\\le 2.20)-P(X\\le 2.00)=0.629$"
   ]
  },
  {
   "cell_type": "code",
   "execution_count": 19,
   "metadata": {},
   "outputs": [
    {
     "data": {
      "text/plain": [
       "0.6293764602242743"
      ]
     },
     "execution_count": 19,
     "metadata": {},
     "output_type": "execute_result"
    }
   ],
   "source": [
    "hist = norm(2.03,0.08)\n",
    "1-hist.cdf(2.08)\n",
    "hist.cdf(1.85)\n",
    "hist.cdf(2.2)-hist.cdf(2)"
   ]
  },
  {
   "cell_type": "markdown",
   "metadata": {},
   "source": [
    "## Q6. DMD Exercise 3.20\n",
    "\n",
    "The paint department in an automobile factory applies two processes when painting cars: (i) painting and (ii) polishing. The painting process is defective 20\\% of the time, while the polishing process is defective 10\\% of the time. Each car first goes through the painting and then through the polishing process. Each car is inspected after it has completed the two processes. If either the painting or the polishing is defective, the car is returned to a special station for rework, where the two processes are applied once again. Rework at the special station is 100\\% reliable (although it is also very expensive).\n",
    "\n",
    "(a) What is the probability that a car is returned to the special station for rework?\n",
    "\n",
    "(b) In a batch of 1000 cars, what is the expected number of cars that will be returned for rework?\n",
    "\n",
    "(c) In a batch of 1000 cars, what is the probability that the number of returned cars is less than or equal to 200?\n",
    "\n",
    "(d) Let $X$ be the number of cars in a group by 1000 cars that have painting defects. Let $Y$ be the number of cars in a group of 1000 cars that have polishing defects. What is the distribution of $X$? What is the distribution of $Y$?\n",
    "\n",
    "(e) What is the probabiltiy that the total number of defects, $X+Y$, is less than or equal to 300?\n",
    "\n",
    "\n",
    "**Answer**\n",
    "\n",
    "(a) The probability that a car is returned to the special station for rework is:\n",
    "\n",
    "$1-(1-0.2)*(1-0.1)=0.28$\n",
    "\n",
    "(b) The expected number of cars that will be returned for rework is:\n",
    "\n",
    "$1000*0.28=280$\n",
    "\n",
    "(c) The number of returned cars follows a binomial distribution with n = 1000 and p = 0.28\n",
    "\n",
    "$P(X\\le200) = 3.6*10^{-9}$\n",
    "\n",
    "(d) $X$ follows a binomial distribution with n = 1000 and p = 0.2, $Y$ follows a binomial distribution with n = 1000 and p = 0.1.\n",
    "\n",
    "(e) $X$ follows a binomial distribution with n = 1000 and p = 0.2. Approximately, $X$ follows $N(200,12.65^2)$\n",
    "\n",
    "$Y$ follows a binomial distribution with n = 1000 and p = 0.1. Approximately $Y$ follows $N(100,9.49^2)$\n",
    "\n",
    "Thus, $(X+Y)$ approximately follows $N(300, 15.81^2)$\n",
    "\n",
    "so the probabiltiy that the total number of defects, $X+Y$, is less than or equal to 300 is:\n",
    "$P(X+Y \\le 300)=0.5$"
   ]
  },
  {
   "cell_type": "code",
   "execution_count": 20,
   "metadata": {},
   "outputs": [
    {
     "data": {
      "text/plain": [
       "0.5153700633598488"
      ]
     },
     "execution_count": 20,
     "metadata": {},
     "output_type": "execute_result"
    }
   ],
   "source": [
    "1-(1-0.2)*(1-0.1)\n",
    "binom(3000,0.1).cdf(300)"
   ]
  },
  {
   "cell_type": "markdown",
   "metadata": {},
   "source": [
    "## Q7. Sampling from an Arbitrary Discrete Distribution\n",
    "\n",
    "The `scipy.stats.rv_discrete` package only supports discrete distributions with integer values. In this exercise, you will write a function `sample(probabilities,values)` that takes two inputs:\n",
    "- `probabilities`: a list of non-negative numbers adding up to one.\n",
    "- `values`: a list of numerical values, not necessarily positive or integer. \n",
    "The function should return a random value from the list `values`, based on the corresponding probabilities.\n",
    "\n",
    "For example, the code\n",
    "```\n",
    "sample([0.5,0.1,0.4],[3.5,-1,4.2])\n",
    "```\n",
    "\n",
    "Should return 3.5 with probability .5, -1 with probability 0.1, and 4.2 with probability 0.4.\n",
    "\n",
    "Write your function in the code cell below, and test it by drawing 10,000 samples and checking whether the frequencies of values correspond approximately to the probabilities you input.\n",
    "\n",
    "**Hint:**\n",
    "You can sample from an arbitrary discrete distribution by first drawing a uniformly random sample from 0 to 1, using the `np.random.random()` function or the `scipy.stats.uniform` package. Call this uniform random sample `z`. Then in the above example, you would return 3.5 if `z` is between 0 and 0.5, return -1 if `z` is between 0.5 and 0.6, and return 4.2 if `z` is between 0.6 and 1."
   ]
  },
  {
   "cell_type": "code",
   "execution_count": 1,
   "metadata": {},
   "outputs": [
    {
     "data": {
      "text/plain": [
       "array([0.5, 0.6, 1. ])"
      ]
     },
     "execution_count": 1,
     "metadata": {},
     "output_type": "execute_result"
    }
   ],
   "source": [
    "import numpy as np\n",
    "np.cumsum([0.5,0.1,0.4])"
   ]
  },
  {
   "cell_type": "code",
   "execution_count": 21,
   "metadata": {},
   "outputs": [
    {
     "data": {
      "text/plain": [
       "4.2"
      ]
     },
     "execution_count": 21,
     "metadata": {},
     "output_type": "execute_result"
    }
   ],
   "source": [
    "import numpy as np\n",
    "def sample(probabilities,values):\n",
    "    from scipy.stats import uniform\n",
    "    p = np.cumsum(probabilities)\n",
    "    value = uniform(0,1).rvs()\n",
    "    for index,v in enumerate(p):\n",
    "        if v >= value:\n",
    "            return values[index]\n",
    "            break\n",
    "            \n",
    "sample([0.5,0.1,0.4], [3.5,-1,4.2])"
   ]
  },
  {
   "cell_type": "markdown",
   "metadata": {},
   "source": [
    "## Q8. Simulating Distribution of Daily Earnings at Rockport\n",
    "\n",
    "In this exercise, you will use the `scipy.stats` package to generate normal and general discrete samples, in order to plot the shape of the probability distributions of the daily earnings from using Rockport in the example in DMD 5.1 (from pre-class readings). Simulate 10000 samples and plot the frequency instead of the density. You should also include the proper titles and labels of the x and y axis. Write your code in the code cell below (a correct sample graph is below).\n",
    "\n",
    "**Hints:**\n",
    "See page 196-197 in DMD for description of the distribution. It has the form $price*min(demand,3500)-10000$, where price is normally distributed with mean $\\mu = 3.65$ and standard deviation of $\\sigma=0.2$, demand follows a discrete distribution, as in the following table. (You can either use your code from Q7 to sample from the discrete distribution, or use `scipy.stats.rv_discrete` since all the values are integers. Or you can try both and see if the results are approximately the same.) You should make the price zero whenever you get a negative sample.\n",
    "\n",
    "| Demand (lbs of codfish) | Probability |\n",
    "|--|--|\n",
    "|0 | 0.02|\n",
    "|1000|0.03|\n",
    "|2000|0.05|\n",
    "|3000|0.08|\n",
    "|4000|0.33|\n",
    "|5000|0.29|\n",
    "|6000|0.20|\n",
    "\n"
   ]
  },
  {
   "cell_type": "code",
   "execution_count": 23,
   "metadata": {},
   "outputs": [
    {
     "data": {
      "image/png": "[encoded data removed]",
      "text/plain": [
       "<Figure size 432x288 with 1 Axes>"
      ]
     },
     "metadata": {},
     "output_type": "display_data"
    }
   ],
   "source": [
    "from scipy.stats import norm\n",
    "from scipy.stats import rv_discrete\n",
    "import matplotlib.pyplot as plt\n",
    "import numpy as np\n",
    "import pandas as pd\n",
    "data=[]\n",
    "dist = norm(3.65,0.2)\n",
    "demand=rv_discrete(values=((0,1000,2000,3000,4000,5000,6000),(0.02,0.03,0.05,0.08,0.33,0.29,0.20)))\n",
    "for i in range(10000):\n",
    "    simpri = max(dist.rvs(),0)\n",
    "    data.append((simpri*min(demand.rvs(),3500))-10000)\n",
    "samples = pd.Series(data)\n",
    "samples.hist(bins=50)\n",
    "plt.grid()\n",
    "plt.title('Distribution of earnings from Rockport (10000 simulations)')\n",
    "plt.xlabel('Earnings from Rockport')\n",
    "plt.ylabel('Frequency')\n",
    "plt.show()"
   ]
  },
  {
   "cell_type": "code",
   "execution_count": 1,
   "metadata": {},
   "outputs": [
    {
     "data": {
      "image/png": "[encoded data removed]",
      "text/plain": [
       "<Figure size 432x288 with 1 Axes>"
      ]
     },
     "metadata": {},
     "output_type": "display_data"
    }
   ],
   "source": [
    "# Sample output (your code should output a graph that looks essentially identically)"
   ]
  }
 ],
 "metadata": {
  "kernelspec": {
   "display_name": "Python 3",
   "language": "python",
   "name": "python3"
  },
  "language_info": {
   "codemirror_mode": {
    "name": "ipython",
    "version": 3
   },
   "file_extension": ".py",
   "mimetype": "text/x-python",
   "name": "python",
   "nbconvert_exporter": "python",
   "pygments_lexer": "ipython3",
   "version": "3.6.5"
  }
 },
 "nbformat": 4,
 "nbformat_minor": 2
}
