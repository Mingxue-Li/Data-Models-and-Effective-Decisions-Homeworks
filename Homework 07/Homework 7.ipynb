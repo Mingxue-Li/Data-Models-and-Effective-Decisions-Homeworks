{
 "cells": [
  {
   "cell_type": "markdown",
   "metadata": {},
   "source": [
    "# Homework 7 (due before class on 3/26)\n",
    "\n",
    "### Name: Mingxue (Jacqueline) Li\n"
   ]
  },
  {
   "cell_type": "markdown",
   "metadata": {},
   "source": [
    "## Instructions for typesetting math in Markdown cells\n",
    "\n",
    "It is possible to render mathematical expressions nicely in Markdown cells, using a type of script called \"LaTex\". LaTex the standard format for people in technical fields to write math nicely. (You can Google for examples of what you can do with LaTex.) \n",
    "\n",
    "To render an expression using LaTex, the expression must be enclosed with dollar signs. For example, the expression `$X>0$` is rendered $X>0$. A single dollar sign is for mathematical expressions within the same line, and double dollar signs are for a standalone mathematical expressions in its own line. Hence, `$$X > 0.$$` is rendered as  $$X>0.$$\n"
   ]
  },
  {
   "cell_type": "markdown",
   "metadata": {},
   "source": [
    "### Example of typesetting a LP\n",
    "\n",
    "**Decision variable:** Let $X$ and $Y$ denote the amount of product X and product Y to produce. \n",
    "\n",
    "**Objective and constraints:**\n",
    "$$\\begin{aligned}\n",
    "\\text{maximize} && 20X+10Y \\\\\n",
    "\\text{subject to:} \\\\\n",
    "\\text{(Material 1)} && 4X+Y & \\le 60 \\\\\n",
    "\\text{(Material 2)} && 2Y & \\le 48 \\\\\n",
    "\\text{(Labor)} && X+Y & \\le 30 \\\\\n",
    "\\text{(Non-negativity)} && X,Y & \\ge 0\n",
    "\\end{aligned}$$\n",
    "\n",
    "Notice that the variables $X$ and $Y$ are in a special font denoting mathematical variables. Moreover, notice that the linear program above is centered and aligned, both at the colons and at the signs ($\\le$ and $\\ge$). It is useful to learn to do such formating in Markdown in order to better communicate your LP formulations to others.\n",
    "\n",
    "Double click this Markdown cell to see the code that created the math. Then execute the cell again to render it."
   ]
  },
  {
   "cell_type": "markdown",
   "metadata": {},
   "source": [
    "### Explanation of above\n",
    "\n",
    "To make the linear program aligned, we not only use the double dollar signs, but also use the `\\begin{aligned} \\end{aligned}` commands. (Double click the linear program above to see the code.) Within this block of LaTex script,\n",
    "\n",
    "- `\\text{ }` is for displaying the enclosed string as plain text, without the mathematical rendering.\n",
    "- `&` is for alignment. The convention is right align before the first `&`, then left align between the first and second `&` of each line, then right align again between the second and third `&` and so on. Hence, to make it right aligned both before and after the colon, we use a double `&&` after the `\\text{}`. If this is confusing, you can simply copy this convention for this homework (`&&` after the explanation of constraint, and `&` before the sign). \n",
    "- `\\\\` is for creating a new line. Notice that we end the line early using `\\\\` for \"subject to\" and \"maximize\".\n",
    "- `\\le` (less than or equal to) is for $\\le$, and `\\ge` (greater than or equal to) is for $\\ge$. This looks better than $<=$ and $>=$.\n",
    "- `\\qquad` is for creating spacing within a line.\n",
    "\n",
    "**Unfortunately, it is difficult to debug LaTex within Jupyter notebook. Hence, if there is any error at all, then the LaTex will not render and you will see your original script.** When this happens, try to render one line at a time and see which line is causing the error. You can see more examples from all the posted in-class handouts. (Download the .ipynb file by viewing the handout note on NBViewer and clicking the download button to the top right of the screen.)"
   ]
  },
  {
   "cell_type": "markdown",
   "metadata": {},
   "source": [
    "## Q1: (Solving a LP manually by graphing)\n",
    "\n",
    "**(DMD Exercise 7.2)** The Magnetron Company manufactures and markets microwave ovens. Currently, the company produces two models: full-size and compact. Production is limited by the amount of labor available in the general assembly and electronic assembly departments, as well as by the demand for each model. Each full-size oven requires 2 hours of general assembly and 2 hours of electronic assembly, whereas each compact oven requires 1 hour of general assembly and 3 hours of electronic assembly. In the current production period, there are 500 hours of general assembly labor available and 800 hours of electronic assembly labor available. \n",
    "\n",
    "In additional, the company estimates that it can sell at most 220 full-size ovens and 180 compact ovens in the current production period. The earnings contribution per oven is 120 dollars for a full-size oven and 130 dollars for a compact oven. The company would like to find an earnings-maximizing production plan for the current production period. \n",
    "\n",
    "**A)** Formulate the above problem as a LP. (You must type your formulation into a Markdown cell following the typesetting instructions above. \n",
    "\n",
    "**Decision variable:** Let $F$ and $C$ denote the amount of full-size ovens and compact ovens to produce. \n",
    "\n",
    "**Objective and constraints:**\n",
    "$$\\begin{aligned}\n",
    "\\text{maximize} && 120F+130C \\\\\n",
    "\\text{subject to:} \\\\\n",
    "\\text{(General labor)} && 2F+C & \\le 500 \\\\\n",
    "\\text{(Electronic labor)} && 2F+3C & \\le 800 \\\\\n",
    "\\text{(Sales Estimate)} && F & \\le 220 \\\\\n",
    "\\text{(Sales Estimate)} && C & \\le 180 \\\\\n",
    "\\text{(Non-negativity)} && F,C & \\ge 0\n",
    "\\end{aligned}$$\n",
    "\n",
    "**For parts B) and C), you should plot by hand on a scrap piece of paper. You do not have to submit your hand drawing, but you need to learn to do this for a quiz or an exam.**\n",
    "\n",
    "**B)** Solve the LP graphically. What is the optimal solution and the optimal objective value? What constraints are binding at the optimal solution?\n",
    "\n",
    "**C)** Consider the general assembly labor constraint. Suppose that the number 500 was changed to 510, re-solve the equations of the binding constraints to compute the new optimal solution. What is the difference in the optimal objective value? Divide this by 10 to find the marginal value of 1 unit of additional general assembly labor (which is the shadow price of this constraint). \n",
    "\n",
    "\n",
    "**Shadow Prices:** We can also do this by increasing the general assembly labor to 501 to see the change in the optimal objective value. And that change is the shadow price of this constraint.\n"
   ]
  },
  {
   "cell_type": "markdown",
   "metadata": {},
   "source": [
    "## Q2 (Production Planning)\n",
    "\n",
    "**DMD Exercise 7.8** Nature's best Frozen Foods company produces four different mixes of frozen ready-to-eat vegetables. The mixes const of five different vegetables: carrots, mushrooms, green peppers, broccoli, and corn. The company manufacturers four different mixes each sold in 10 oz. bags. The mixes are \"Stir Fry\", \"Barbecue\", \"Hearty Mushrooms\" and \"Veggie Crunch,\" and their contributions to earnings (per bag) are 0.22, 0.20, 0.18 and 0.18 respectively. The monthly supplies of carrots, mushrooms, green peppers, broccoli and corn are 150,000 oz., 80,000 oz., 135,000 oz., 140,000 oz., and 150,000 oz. per month, respectively. The compositions of the mixes are shown in the table below. For example, one bag of \"Stir Fry\" mix contains 2.5 oz. of carrots, 3.0 oz. of mushrooms, 2.5 oz. of green peppers, 2.0 oz. of broccoli, and no corn. \n",
    "\n",
    "|` `| Stir Fry | Barbecue | Hearty Mushrooms | Veggie Crunch |\n",
    "|--|--|--|--|--|\n",
    "|Carrots | 2.5 | 2.0 | - | 2.5 |\n",
    "|Mushrooms | 3.0 | - | 4.0 | - |\n",
    "|Green Peppers | 2.5 | 2.0 | 3 | 2.5 |\n",
    "|Broccoli | 2.0 | 3.0 | 3.0 | 2.5 |\n",
    "|Corn | - | 3.0 | - | 2.5 |\n",
    "\n",
    "Construct a LP to determine the optimal product mix to maximize total earnings. (You need to write the math formulation in a Markdown cell following the typesetting instructions at the top of this homework.) Solve this LP using Gurobi. What is the optimal product mix and the optimal objective value? What is the value of an extra ounce of green peppers?"
   ]
  },
  {
   "cell_type": "markdown",
   "metadata": {},
   "source": [
    "**Decision variable:** Let $S$, $B$, $H$ and $V$ denote respectively the number of bags of `Stir Fry`, `Barbecue`, `Hearty Mushrooms` and `Veggie Crunch` to produce per month. \n",
    "\n",
    "**Objective and constraints:**\n",
    "$$\\begin{aligned}\n",
    "\\text{maximize} && 0.22S+0.2B+0.18H+0.18V \\\\\n",
    "\\text{subject to:} \\\\\n",
    "\\text{(Carrots Supplies)} && 2.5S+2B+2.5V & \\le 150000 \\\\\n",
    "\\text{(Mushrooms Supplies)} && 3S+4H & \\le 80000 \\\\\n",
    "\\text{(Green Peppers Supplies)} && 2.5S+2B+3H+2.5V & \\le 135000 \\\\\n",
    "\\text{(Broccoli Supplies)} && 2S+3B+3H+2.5V & \\le 140000 \\\\\n",
    "\\text{(Corn Supplies)} && 3B+2.5V & \\le 150000 \\\\\n",
    "\\text{(Non-negativity)} && S,B,H,V & \\ge 0\n",
    "\\end{aligned}$$"
   ]
  },
  {
   "cell_type": "code",
   "execution_count": 22,
   "metadata": {},
   "outputs": [
    {
     "name": "stdout",
     "output_type": "stream",
     "text": [
      "Optimal Objective: 11813.2\n",
      "\tS: 26666.0\n",
      "\tB: 18334.0\n",
      "\tH: -0.0\n",
      "\tV: 12666.0\n"
     ]
    }
   ],
   "source": [
    "from gurobipy import Model, GRB\n",
    "mod = Model()\n",
    "S = mod.addVar(vtype=GRB.INTEGER)\n",
    "B = mod.addVar(vtype=GRB.INTEGER)\n",
    "H = mod.addVar(vtype=GRB.INTEGER)\n",
    "V = mod.addVar(vtype=GRB.INTEGER)\n",
    "\n",
    "mod.setObjective(0.22*S+0.2*B+0.18*H+0.18*V, sense = GRB.MAXIMIZE)\n",
    "mod.addConstr(2.5*S+2*B+2.5*V <= 150000)\n",
    "mod.addConstr(3*S+4*H <= 80000)\n",
    "mod.addConstr(2.5*S+2*B+3*H+2.5*V <= 135000)\n",
    "mod.addConstr(2*S+3*B+3*H+2.5*V <= 140000)\n",
    "mod.addConstr(3*B+2.5*V <= 150000)\n",
    "\n",
    "mod.setParam('outputflag', False)\n",
    "mod.optimize()\n",
    "\n",
    "print('Optimal Objective:', mod.objval)\n",
    "print('\\tS:', S.x)\n",
    "print('\\tB:', B.x)\n",
    "print('\\tH:', H.x)\n",
    "print('\\tV:', V.x)"
   ]
  },
  {
   "cell_type": "markdown",
   "metadata": {},
   "source": [
    "## Q3 (Portfolio Planning)\n",
    "\n",
    "**(DMD Exercise 7.12)** An investor is considering allocating 10,000 dollars among five investment alternatives. The five alternatives and their respective fund categories, risk levels, and average annual returns are shown below. \n",
    "\n",
    "| Fund | Category | Risk Level | Average Annual Return |\n",
    "|--|--|--|--|\n",
    "| A | Money Market | 1 | 4.50\\% |\n",
    "| B | Money Market | 2 | 5.62 \\% |\n",
    "| C | Bond | 2 | 6.80\\% |\n",
    "| D | Bond | 3 | 10.15\\% |\n",
    "| E | Aggressive Growth | 5 | 20.60\\% |\n",
    "\n",
    "The risk level of each fund is rated on a scale of 1 to 5, where 1 is very conservative and 5 is very risky. The investor would like to maximize the average annual return of the portfolio subject to the following restrictions: \n",
    "\n",
    "1. The average risk level of the entire investment should not exceed 2.5\n",
    "\n",
    "2. At least 30\\% of the investment should be placed in money market funds.\n",
    "\n",
    "3. At most 2,000 dollars should be invested in the aggressive growth fund.\n",
    "\n",
    "Construct and solve a LP to determine the optimal allocation of the investor's money. (You need to write the math formulation nicely in Markdown following the typesetting instructions at the top.)"
   ]
  },
  {
   "cell_type": "markdown",
   "metadata": {},
   "source": [
    "**Decision variable:** Let $A$, $B$, $C$, $D$ and $E$ denote respectively the dollar amount invested in Fund A, B, C, D, E. \n",
    "\n",
    "**Objective and constraints:**\n",
    "$$\\begin{aligned}\n",
    "\\text{maximize} && 0.045*A+0.0562*B+0.068*C+0.1015*D+0.206*E \\\\\n",
    "\\text{subject to:} \\\\\n",
    "\\text{(Total amount)} && A+B+D+C+E & \\le 10000 \\\\\n",
    "\\text{(Contraint 1)} && \\frac{A+2B+2D+3C+5E}{A+B+C+D+E} & \\le 2.5 \\\\\n",
    "\\text{(Contraint 2)} && A+B & \\ge 3000 \\\\\n",
    "\\text{(Contraint 3)} && E & \\le 2000 \\\\\n",
    "\\text{(Non-negativity)} && A,B,C,D,E & \\ge 0\n",
    "\\end{aligned}$$"
   ]
  },
  {
   "cell_type": "code",
   "execution_count": 21,
   "metadata": {},
   "outputs": [
    {
     "name": "stdout",
     "output_type": "stream",
     "text": [
      "Optimal Objective: 0.096975\n",
      "\tA: 4500.0\n",
      "\tB: 0.0\n",
      "\tC: 0.0\n",
      "\tD: 3500.0\n",
      "\tE: 2000.0\n"
     ]
    }
   ],
   "source": [
    "from gurobipy import Model, GRB\n",
    "mod = Model()\n",
    "A = mod.addVar()\n",
    "B = mod.addVar()\n",
    "C = mod.addVar()\n",
    "D = mod.addVar()\n",
    "E = mod.addVar()\n",
    "\n",
    "mod.setObjective((0.045*A+0.0562*B+0.068*C+0.1015*D+0.206*E)/10000, sense = GRB.MAXIMIZE)\n",
    "mod.addConstr(A+B+C+D+E <= 10000)\n",
    "mod.addConstr((A+2*B+2*C+3*D+5*E)/10000 <= 2.5)\n",
    "mod.addConstr(A+B >= 3000)\n",
    "mod.addConstr(E <= 2000)\n",
    "\n",
    "mod.setParam('outputflag', False)\n",
    "mod.optimize()\n",
    "\n",
    "print('Optimal Objective:', mod.objval)\n",
    "print(f'\\tA: {A.x:.1f}')\n",
    "print(f'\\tB: {B.x:.1f}')\n",
    "print(f'\\tC: {C.x:.1f}')\n",
    "print(f'\\tD: {D.x:.1f}')\n",
    "print(f'\\tE: {E.x:.1f}')"
   ]
  },
  {
   "cell_type": "code",
   "execution_count": 2,
   "metadata": {},
   "outputs": [
    {
     "name": "stdout",
     "output_type": "stream",
     "text": [
      "Expected annual return 0.096975\n",
      "Optimal allocation:\n",
      "\t Fund A : 4500.0\n",
      "\t Fund B : 0.0\n",
      "\t Fund C : 0.0\n",
      "\t Fund D : 3500.0\n",
      "\t Fund E : 2000.0\n"
     ]
    }
   ],
   "source": [
    "# Numerical answer"
   ]
  },
  {
   "cell_type": "markdown",
   "metadata": {},
   "source": [
    "## Q4 (Project Sub-Contracting)\n",
    "\n",
    "Tom Burke, owner of Burke Construction, has promised to complete five projects this winter. Burke Construction has 10 workers that will work 40 hours a week for 12 weeks this winter. Since this is a limited workforce, Tom knows that he will not be able to complete all of his construction projects without subcontracting some of them. In the table below, he has estimated the amount of labor hours required by each project, and the profit to his company. \n",
    "\n",
    "| Project | 1 | 2 | 3 | 4 | 5 |\n",
    "|--|--|--|--|--|--|\n",
    "| Labor hours required | 1300 | 950 | 1000 | 1400 | 1600 |\n",
    "| Profit (if done by own company) | \\$30,000 | \\$10,000 | \\$26,000 | \\$18,000 | \\$20,000 |\n",
    "| Profit (if subcontracted) | \\$6,000 | \\$2,000 | \\$8,000 | \\$9,000 | \\$4,500 |\n",
    "\n",
    "To maximize profit, which jobs should Tom schedule for his company, and which should be subcontracted? (Formulate this as an optimization problem and solve it.) Assume that projects cannot be partially subcontracted; that is, a project will be completed entirely by either Burke Construction or the subcontractor."
   ]
  },
  {
   "cell_type": "code",
   "execution_count": 19,
   "metadata": {},
   "outputs": [
    {
     "name": "stdout",
     "output_type": "stream",
     "text": [
      "Optimal Objective: 88500.0\n",
      "Job 1 for own company.\n",
      "Job 2 for own company.\n",
      "Job 3 for own company.\n",
      "Job 4 for own company.\n",
      "Job 5 to subcontract.\n"
     ]
    }
   ],
   "source": [
    "from gurobipy import Model, GRB\n",
    "mod = Model()\n",
    "A = mod.addVar(vtype = GRB.BINARY)\n",
    "B = mod.addVar(vtype = GRB.BINARY)\n",
    "C = mod.addVar(vtype = GRB.BINARY)\n",
    "D = mod.addVar(vtype = GRB.BINARY)\n",
    "E = mod.addVar(vtype = GRB.BINARY)\n",
    "\n",
    "mod.setObjective(30000*A+10000*B+26000*C+18000*D+20000*E+6000*(1-A)+2000*(1-B)+8000*(1-C)+9000*(1-D)+4500*(1-E), \n",
    "                 sense = GRB.MAXIMIZE)\n",
    "mod.addConstr(1300*A+950*B+1000*C+1400*D+1600*E <= 10*40*12)\n",
    "\n",
    "mod.setParam('outputflag', False)\n",
    "mod.optimize()\n",
    "\n",
    "print('Optimal Objective:', mod.objval)\n",
    "for i,val in enumerate(['A', 'B', 'C', 'D', 'E']):\n",
    "    if eval(val).x == 1.0:\n",
    "        print('Job {} for own company.'.format(i+1))\n",
    "    else:\n",
    "        print('Job {} to subcontract.'.format(i+1))"
   ]
  },
  {
   "cell_type": "code",
   "execution_count": 3,
   "metadata": {
    "scrolled": true
   },
   "outputs": [
    {
     "name": "stdout",
     "output_type": "stream",
     "text": [
      "Optimal profit: 88500.0\n",
      "  Job 1 for own company.\n",
      "  Job 2 for own company.\n",
      "  Job 3 for own company.\n",
      "  Job 4 for own company.\n",
      "  Job 5 to subcontract.\n"
     ]
    }
   ],
   "source": [
    "# Numerical answer"
   ]
  },
  {
   "cell_type": "markdown",
   "metadata": {},
   "source": [
    "## Q5 (Optimal Advertising Plan)\n",
    "\n",
    "SALS Marketing Inc. is developing an advertising campaign for a large consumer goods corporation. SALS has promised a plan that will yield the highest possible “exposure rating,” a measure of the ability to reach the appropriate demographic group and generate demand. The options for advertisements with their respective costs (per unit of advertising) and per-unit exposure ratings are given in the table below (K stands for thousands). \n",
    "\n",
    "| Category | Subcategory | Cost/Unit | Exposure/Unit |\n",
    "|--|--|--|--|\n",
    "| Magazines | Literary | \\$7.5 K | 15 K |\n",
    "| ` ` | News | \\$10 K | 22.5 K |\n",
    "| ` ` | Topical | \\$15 K | 24 K |\n",
    "| Newspapers |  Morning | \\$2 K | 37.5 K |\n",
    "|` `  | Evening | \\$3 K | 75 K |\n",
    "| Television | Morning | \\$20 K | 275 K |\n",
    "| ` ` | Midday | \\$10 K | 180 K |\n",
    "| ` `  | Evening | \\$60 K | 810 K |\n",
    "| Radio | Morning | \\$15 K | 180 K |\n",
    "| ` ` | Midday | \\$15 K | 17 K |\n",
    "| ` ` | Evening | \\$10 K | 16 K |\n",
    "\n",
    "Of course, certain restrictions exist for the advertising campaign. The client corporation has budgeted 800,000 dollars for the campaign, but to restrict overexposure to any particular audience it wants no more than 300,000 dollars put into any one category (Magazine, Newspaper, etc.). Also, to ensure a broad range of exposure, at least 100,000 dollars must be spent in each category. \n",
    "\n",
    "Formulate this problem as a MIP (which you must typeset nicely) and solve using Gurobi to find the optimal advertising plan. For this question, you can only purchase integer number of units. (Hint on typesetting: you can break a long expression into multiple lines using `\\\\` and control alignment using `&`.)"
   ]
  },
  {
   "cell_type": "code",
   "execution_count": 20,
   "metadata": {},
   "outputs": [
    {
     "name": "stdout",
     "output_type": "stream",
     "text": [
      "Maximum exposure rating (in thousands): 14235.0\n",
      "Advertising plan (units):\n",
      "\tMagazine Literary : -0.0\n",
      "\tMagazine News: 10.0\n",
      "\tMagazine Topical : -0.0\n",
      "\tNews Morning : 0.0\n",
      "\tNews Evening : 98.0\n",
      "\tTV Morning : -0.0\n",
      "\tTV Midday : 30.0\n",
      "\tTV Evening : -0.0\n",
      "\tRadio Morning : 7.0\n",
      "\tRadio Day : -0.0\n",
      "\tRadio Evening : -0.0\n"
     ]
    }
   ],
   "source": [
    "from gurobipy import Model, GRB\n",
    "mod = Model()\n",
    "ML= mod.addVar(vtype = GRB.INTEGER)\n",
    "MN = mod.addVar(vtype = GRB.INTEGER)\n",
    "MT = mod.addVar(vtype = GRB.INTEGER)\n",
    "NM = mod.addVar(vtype = GRB.INTEGER)\n",
    "NE = mod.addVar(vtype = GRB.INTEGER)\n",
    "TMO = mod.addVar(vtype = GRB.INTEGER)\n",
    "TMI = mod.addVar(vtype = GRB.INTEGER)\n",
    "TE = mod.addVar(vtype = GRB.INTEGER)\n",
    "RMO = mod.addVar(vtype = GRB.INTEGER)\n",
    "RMI = mod.addVar(vtype = GRB.INTEGER)\n",
    "RE = mod.addVar(vtype = GRB.INTEGER)\n",
    "\n",
    "mod.setObjective(15000*ML+22500*MN+24000*MT+37500*NM+75000*NE+275000*TMO+180000*TMI+810000*TE+180000*RMO+17000*RMI+16000*RE, sense = GRB.MAXIMIZE)\n",
    "mod.addConstr(75000*ML+10000*MN+15000*MT+2000*NM+3000*NE+20000*TMO+10000*TMI+60000*TE+15000*RMO+15000*RMI+10000*RE <= 800000)\n",
    "mod.addConstr(75000*ML+10000*MN+15000*MT <= 300000)\n",
    "mod.addConstr(75000*ML+10000*MN+15000*MT >= 100000)\n",
    "mod.addConstr(2000*NM+3000*NE <= 300000)\n",
    "mod.addConstr(2000*NM+3000*NE >= 100000)\n",
    "mod.addConstr(20000*TMO+10000*TMI+60000*TE <= 300000)\n",
    "mod.addConstr(20000*TMO+10000*TMI+60000*TE >= 100000)\n",
    "mod.addConstr(15000*RMO+15000*RMI+10000*RE <= 300000)\n",
    "mod.addConstr(15000*RMO+15000*RMI+10000*RE >= 100000)\n",
    "\n",
    "mod.setParam('outputflag', False)\n",
    "mod.optimize()\n",
    "\n",
    "print('Maximum exposure rating (in thousands):', mod.objval/1000)\n",
    "print('Advertising plan (units):')\n",
    "print(f'\\tMagazine Literary : {ML.x}')\n",
    "print(f'\\tMagazine News: {MN.x}')\n",
    "print(f'\\tMagazine Topical : {MT.x}')\n",
    "print(f'\\tNews Morning : {NM.x}')\n",
    "print(f'\\tNews Evening : {NE.x}')\n",
    "print(f'\\tTV Morning : {TMO.x}')\n",
    "print(f'\\tTV Midday : {TMI.x}')\n",
    "print(f'\\tTV Evening : {TE.x}')\n",
    "print(f'\\tRadio Morning : {RMO.x}')\n",
    "print(f'\\tRadio Day : {RMI.x}')\n",
    "print(f'\\tRadio Evening : {RE.x}')"
   ]
  },
  {
   "cell_type": "code",
   "execution_count": 2,
   "metadata": {
    "scrolled": true
   },
   "outputs": [
    {
     "name": "stdout",
     "output_type": "stream",
     "text": [
      "Maximum exposure rating (in thousands): 14235.0\n",
      "Advertising plan (units):\n",
      "\t Magazine Literary : -0\n",
      "\t Magazine News : 10\n",
      "\t Magazine Topical : -0\n",
      "\t News Morning : -0\n",
      "\t News Evening : 98\n",
      "\t TV Morning : -0\n",
      "\t TV Midday : 30\n",
      "\t TV Evening : -0\n",
      "\t Radio Morning : 7\n",
      "\t Radio Day : -0\n",
      "\t Radio Evening : -0\n"
     ]
    }
   ],
   "source": [
    "# Numerical answer"
   ]
  }
 ],
 "metadata": {
  "kernelspec": {
   "display_name": "Python 3",
   "language": "python",
   "name": "python3"
  },
  "language_info": {
   "codemirror_mode": {
    "name": "ipython",
    "version": 3
   },
   "file_extension": ".py",
   "mimetype": "text/x-python",
   "name": "python",
   "nbconvert_exporter": "python",
   "pygments_lexer": "ipython3",
   "version": "3.6.5"
  }
 },
 "nbformat": 4,
 "nbformat_minor": 2
}
